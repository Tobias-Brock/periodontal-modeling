{
 "cells": [
  {
   "cell_type": "code",
   "execution_count": null,
   "metadata": {},
   "outputs": [],
   "source": [
    "from pamod.wrapper import BenchmarkWrapper\n",
    "\n",
    "wrapper = BenchmarkWrapper(\n",
    "    task=\"pocketclosure\",\n",
    "    encodings=[\"one_hot\", \"target\"],\n",
    "    learners=[\"xgb\"],\n",
    "    tuning_methods=[\"holdout\"],\n",
    "    hpo_methods=[\"hebo\"],\n",
    "    criteria=[\"f1\"],\n",
    "    sampling=[None, \"upsampling\"],\n",
    "    factor=2,\n",
    "    n_configs=3,\n",
    "    n_jobs=-1,\n",
    ")\n",
    "\n",
    "baseline = wrapper.baseline()\n",
    "benchmark, learners = wrapper.wrapped_benchmark()"
   ]
  },
  {
   "cell_type": "code",
   "execution_count": null,
   "metadata": {},
   "outputs": [],
   "source": [
    "baseline"
   ]
  },
  {
   "cell_type": "code",
   "execution_count": null,
   "metadata": {},
   "outputs": [],
   "source": [
    "benchmark"
   ]
  },
  {
   "cell_type": "code",
   "execution_count": null,
   "metadata": {},
   "outputs": [],
   "source": [
    "wrapper.wrapped_evaluator(learners_dict=learners)"
   ]
  }
 ],
 "metadata": {
  "kernelspec": {
   "display_name": "pamod",
   "language": "python",
   "name": "python3"
  },
  "language_info": {
   "codemirror_mode": {
    "name": "ipython",
    "version": 3
   },
   "file_extension": ".py",
   "mimetype": "text/x-python",
   "name": "python",
   "nbconvert_exporter": "python",
   "pygments_lexer": "ipython3",
   "version": "3.11.9"
  }
 },
 "nbformat": 4,
 "nbformat_minor": 2
}
