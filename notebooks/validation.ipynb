{
 "cells": [
  {
   "cell_type": "code",
   "execution_count": 1,
   "metadata": {},
   "outputs": [],
   "source": [
    "from periomod.wrapper import load_learners\n",
    "\n",
    "learners = load_learners(path=\"../models/pdgrouprevaluation_experiments\")"
   ]
  },
  {
   "cell_type": "code",
   "execution_count": 2,
   "metadata": {},
   "outputs": [],
   "source": [
    "from periomod.wrapper import Validator\n",
    "\n",
    "validator = Validator(learners_dict=learners,\n",
    "    criterion=\"macro_f1\",\n",
    "    aggregate=True,\n",
    "    path_train=\"../data/processed/processed_data.csv\",\n",
    "    path_val=\"../data/processed/processed_data_val.csv\",\n",
    "    )"
   ]
  },
  {
   "cell_type": "code",
   "execution_count": 3,
   "metadata": {},
   "outputs": [],
   "source": [
    "results = validator.perform_validation(verbose=False)"
   ]
  },
  {
   "cell_type": "code",
   "execution_count": 4,
   "metadata": {},
   "outputs": [
    {
     "data": {
      "text/html": [
       "<div>\n",
       "<style scoped>\n",
       "    .dataframe tbody tr th:only-of-type {\n",
       "        vertical-align: middle;\n",
       "    }\n",
       "\n",
       "    .dataframe tbody tr th {\n",
       "        vertical-align: top;\n",
       "    }\n",
       "\n",
       "    .dataframe thead th {\n",
       "        text-align: right;\n",
       "    }\n",
       "</style>\n",
       "<table border=\"1\" class=\"dataframe\">\n",
       "  <thead>\n",
       "    <tr style=\"text-align: right;\">\n",
       "      <th></th>\n",
       "      <th>Learner</th>\n",
       "      <th>Tuning</th>\n",
       "      <th>Criterion</th>\n",
       "      <th>Macro F1</th>\n",
       "      <th>Accuracy</th>\n",
       "      <th>Class F1 Scores</th>\n",
       "      <th>Multiclass Brier Score</th>\n",
       "    </tr>\n",
       "  </thead>\n",
       "  <tbody>\n",
       "    <tr>\n",
       "      <th>0</th>\n",
       "      <td>rf</td>\n",
       "      <td>final</td>\n",
       "      <td>macro_f1</td>\n",
       "      <td>0.4584</td>\n",
       "      <td>0.8432</td>\n",
       "      <td>[0.9230375644906835, 0.4263760827046661, 0.025...</td>\n",
       "      <td>0.1401</td>\n",
       "    </tr>\n",
       "  </tbody>\n",
       "</table>\n",
       "</div>"
      ],
      "text/plain": [
       "  Learner Tuning Criterion  Macro F1  Accuracy  \\\n",
       "0      rf  final  macro_f1    0.4584    0.8432   \n",
       "\n",
       "                                     Class F1 Scores  Multiclass Brier Score  \n",
       "0  [0.9230375644906835, 0.4263760827046661, 0.025...                  0.1401  "
      ]
     },
     "execution_count": 4,
     "metadata": {},
     "output_type": "execute_result"
    }
   ],
   "source": [
    "results"
   ]
  }
 ],
 "metadata": {
  "kernelspec": {
   "display_name": "pamod",
   "language": "python",
   "name": "python3"
  },
  "language_info": {
   "codemirror_mode": {
    "name": "ipython",
    "version": 3
   },
   "file_extension": ".py",
   "mimetype": "text/x-python",
   "name": "python",
   "nbconvert_exporter": "python",
   "pygments_lexer": "ipython3",
   "version": "3.11.10"
  }
 },
 "nbformat": 4,
 "nbformat_minor": 2
}
