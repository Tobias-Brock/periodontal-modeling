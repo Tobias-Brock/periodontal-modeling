{
 "cells": [
  {
   "cell_type": "code",
   "execution_count": 1,
   "metadata": {},
   "outputs": [],
   "source": [
    "from periomod.wrapper import load_learners\n",
    "\n",
    "learners = load_learners(path=\"../models/pocketclosure_experiments\")"
   ]
  },
  {
   "cell_type": "code",
   "execution_count": 2,
   "metadata": {},
   "outputs": [],
   "source": [
    "from periomod.wrapper import Validator\n",
    "\n",
    "validator = Validator(learners_dict=learners,\n",
    "    criterion=\"f1\",\n",
    "    aggregate=True,\n",
    "    path_train=\"../data/processed/processed_data.csv\",\n",
    "    path_val=\"../data/processed/processed_data_val.csv\",\n",
    "    )"
   ]
  },
  {
   "cell_type": "code",
   "execution_count": null,
   "metadata": {},
   "outputs": [
    {
     "name": "stdout",
     "output_type": "stream",
     "text": [
      "\n",
      "Final Model Metrics Summary:\n",
      "   Learner Tuning Criterion  F1 Score  Precision  Recall  Accuracy  Brier Score  ROC AUC Score            Confusion Matrix  Best Threshold\n",
      "0      lr  final        f1     0.543      0.522  0.5658    0.8837       0.1559         0.8821  [[950, 729], [870, 11200]]            0.23\n"
     ]
    }
   ],
   "source": [
    "results = validator.perform_validation(verbose=False)"
   ]
  }
 ],
 "metadata": {
  "kernelspec": {
   "display_name": "pamod",
   "language": "python",
   "name": "python3"
  },
  "language_info": {
   "codemirror_mode": {
    "name": "ipython",
    "version": 3
   },
   "file_extension": ".py",
   "mimetype": "text/x-python",
   "name": "python",
   "nbconvert_exporter": "python",
   "pygments_lexer": "ipython3",
   "version": "3.11.9"
  }
 },
 "nbformat": 4,
 "nbformat_minor": 2
}
