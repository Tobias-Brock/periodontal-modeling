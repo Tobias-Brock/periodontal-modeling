{
 "cells": [
  {
   "cell_type": "code",
   "execution_count": 4,
   "metadata": {},
   "outputs": [
    {
     "data": {
      "text/html": [
       "<div>\n",
       "<style scoped>\n",
       "    .dataframe tbody tr th:only-of-type {\n",
       "        vertical-align: middle;\n",
       "    }\n",
       "\n",
       "    .dataframe tbody tr th {\n",
       "        vertical-align: top;\n",
       "    }\n",
       "\n",
       "    .dataframe thead th {\n",
       "        text-align: right;\n",
       "    }\n",
       "</style>\n",
       "<table border=\"1\" class=\"dataframe\">\n",
       "  <thead>\n",
       "    <tr style=\"text-align: right;\">\n",
       "      <th></th>\n",
       "      <th>F1 Score</th>\n",
       "      <th>Precision</th>\n",
       "      <th>Recall</th>\n",
       "      <th>Accuracy</th>\n",
       "      <th>Brier Score</th>\n",
       "      <th>ROC AUC Score</th>\n",
       "      <th>Confusion Matrix</th>\n",
       "      <th>Best Threshold</th>\n",
       "    </tr>\n",
       "  </thead>\n",
       "  <tbody>\n",
       "    <tr>\n",
       "      <th>Dummy Classifier</th>\n",
       "      <td>0.000000</td>\n",
       "      <td>0.000000</td>\n",
       "      <td>0.000000</td>\n",
       "      <td>0.712523</td>\n",
       "      <td>0.204865</td>\n",
       "      <td>0.500000</td>\n",
       "      <td>[[0, 1095], [0, 2714]]</td>\n",
       "      <td>None</td>\n",
       "    </tr>\n",
       "    <tr>\n",
       "      <th>Logistic Regression</th>\n",
       "      <td>0.175038</td>\n",
       "      <td>0.525114</td>\n",
       "      <td>0.105023</td>\n",
       "      <td>0.715411</td>\n",
       "      <td>0.195039</td>\n",
       "      <td>0.642057</td>\n",
       "      <td>[[115, 980], [104, 2610]]</td>\n",
       "      <td>None</td>\n",
       "    </tr>\n",
       "    <tr>\n",
       "      <th>Random Forest</th>\n",
       "      <td>0.146453</td>\n",
       "      <td>0.444444</td>\n",
       "      <td>0.087671</td>\n",
       "      <td>0.706222</td>\n",
       "      <td>0.200429</td>\n",
       "      <td>0.611289</td>\n",
       "      <td>[[96, 999], [120, 2594]]</td>\n",
       "      <td>None</td>\n",
       "    </tr>\n",
       "  </tbody>\n",
       "</table>\n",
       "</div>"
      ],
      "text/plain": [
       "                     F1 Score  Precision    Recall  Accuracy  Brier Score  ROC AUC Score           Confusion Matrix Best Threshold\n",
       "Dummy Classifier     0.000000   0.000000  0.000000  0.712523     0.204865       0.500000     [[0, 1095], [0, 2714]]           None\n",
       "Logistic Regression  0.175038   0.525114  0.105023  0.715411     0.195039       0.642057  [[115, 980], [104, 2610]]           None\n",
       "Random Forest        0.146453   0.444444  0.087671  0.706222     0.200429       0.611289   [[96, 999], [120, 2594]]           None"
      ]
     },
     "execution_count": 4,
     "metadata": {},
     "output_type": "execute_result"
    }
   ],
   "source": [
    "from pamod.wrapper import BenchmarkWrapper\n",
    "\n",
    "wrapper = BenchmarkWrapper(\n",
    "    task=\"improve\",\n",
    "    encoding=\"one_hot\",\n",
    "    learners=[\"xgb\"],\n",
    "    tuning_methods=[\"holdout\"],\n",
    "    hpo_methods=[\"hebo\"],\n",
    "    criteria=[\"f1\"],\n",
    "    n_configs=5,\n",
    "    n_jobs=-1,\n",
    ")\n",
    "\n",
    "wrapper.baseline()"
   ]
  },
  {
   "cell_type": "code",
   "execution_count": 5,
   "metadata": {},
   "outputs": [],
   "source": [
    "benchmark, learners = wrapper.wrapped_benchmark()"
   ]
  },
  {
   "cell_type": "code",
   "execution_count": 6,
   "metadata": {},
   "outputs": [
    {
     "data": {
      "text/html": [
       "<div>\n",
       "<style scoped>\n",
       "    .dataframe tbody tr th:only-of-type {\n",
       "        vertical-align: middle;\n",
       "    }\n",
       "\n",
       "    .dataframe tbody tr th {\n",
       "        vertical-align: top;\n",
       "    }\n",
       "\n",
       "    .dataframe thead th {\n",
       "        text-align: right;\n",
       "    }\n",
       "</style>\n",
       "<table border=\"1\" class=\"dataframe\">\n",
       "  <thead>\n",
       "    <tr style=\"text-align: right;\">\n",
       "      <th></th>\n",
       "      <th>Task</th>\n",
       "      <th>Learner</th>\n",
       "      <th>Tuning</th>\n",
       "      <th>HPO</th>\n",
       "      <th>Criterion</th>\n",
       "      <th>F1 Score</th>\n",
       "      <th>Precision</th>\n",
       "      <th>Recall</th>\n",
       "      <th>Accuracy</th>\n",
       "      <th>Brier Score</th>\n",
       "      <th>ROC AUC Score</th>\n",
       "      <th>Confusion Matrix</th>\n",
       "      <th>Best Threshold</th>\n",
       "    </tr>\n",
       "  </thead>\n",
       "  <tbody>\n",
       "    <tr>\n",
       "      <th>0</th>\n",
       "      <td>improve</td>\n",
       "      <td>xgb</td>\n",
       "      <td>holdout</td>\n",
       "      <td>hebo</td>\n",
       "      <td>f1</td>\n",
       "      <td>0.4466</td>\n",
       "      <td>0.2875</td>\n",
       "      <td>1.0</td>\n",
       "      <td>0.2875</td>\n",
       "      <td>0.2256</td>\n",
       "      <td>0.6203</td>\n",
       "      <td>[[1095, 0], [2714, 0]]</td>\n",
       "      <td>1.0</td>\n",
       "    </tr>\n",
       "  </tbody>\n",
       "</table>\n",
       "</div>"
      ],
      "text/plain": [
       "      Task Learner   Tuning   HPO Criterion  F1 Score  Precision  Recall  Accuracy  Brier Score  ROC AUC Score        Confusion Matrix  Best Threshold\n",
       "0  improve     xgb  holdout  hebo        f1    0.4466     0.2875     1.0    0.2875       0.2256         0.6203  [[1095, 0], [2714, 0]]             1.0"
      ]
     },
     "execution_count": 6,
     "metadata": {},
     "output_type": "execute_result"
    }
   ],
   "source": [
    "benchmark"
   ]
  }
 ],
 "metadata": {
  "kernelspec": {
   "display_name": "pamod",
   "language": "python",
   "name": "python3"
  },
  "language_info": {
   "codemirror_mode": {
    "name": "ipython",
    "version": 3
   },
   "file_extension": ".py",
   "mimetype": "text/x-python",
   "name": "python",
   "nbconvert_exporter": "python",
   "pygments_lexer": "ipython3",
   "version": "3.11.9"
  }
 },
 "nbformat": 4,
 "nbformat_minor": 2
}
