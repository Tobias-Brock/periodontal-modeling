{
 "cells": [
  {
   "cell_type": "code",
   "execution_count": null,
   "metadata": {},
   "outputs": [],
   "source": [
    "from periomod.data import StaticProcessEngine\n",
    "from periomod.descriptives import DescriptivesPlotter"
   ]
  },
  {
   "cell_type": "code",
   "execution_count": null,
   "metadata": {},
   "outputs": [],
   "source": [
    "engine = StaticProcessEngine(behavior=False, scale=False)\n",
    "df = engine.load_data()\n",
    "df = engine.process_data(df)\n",
    "plotter = DescriptivesPlotter(df)"
   ]
  },
  {
   "cell_type": "code",
   "execution_count": null,
   "metadata": {},
   "outputs": [],
   "source": [
    "plotter.histogram_2d(\"pdbaseline\", \"pdrevaluation\")"
   ]
  },
  {
   "cell_type": "code",
   "execution_count": null,
   "metadata": {},
   "outputs": [],
   "source": [
    "plotter.pocket_comparison(\"pdbaseline\", \"pdrevaluation\")"
   ]
  },
  {
   "cell_type": "code",
   "execution_count": null,
   "metadata": {},
   "outputs": [],
   "source": [
    "plotter.pocket_group_comparison(\"pdgroupbase\", \"pdgrouprevaluation\")"
   ]
  },
  {
   "cell_type": "code",
   "execution_count": null,
   "metadata": {},
   "outputs": [],
   "source": [
    "plotter.plt_matrix(\"pdgrouprevaluation\", \"pdgroupbase\")"
   ]
  },
  {
   "cell_type": "code",
   "execution_count": null,
   "metadata": {},
   "outputs": [],
   "source": [
    "plotter.outcome_descriptive(\"pdgrouprevaluation\", \"Distribution of Classes\")"
   ]
  }
 ],
 "metadata": {
  "kernelspec": {
   "display_name": "periomod",
   "language": "python",
   "name": "python3"
  },
  "language_info": {
   "codemirror_mode": {
    "name": "ipython",
    "version": 3
   },
   "file_extension": ".py",
   "mimetype": "text/x-python",
   "name": "python",
   "nbconvert_exporter": "python",
   "pygments_lexer": "ipython3",
   "version": "3.11.9"
  }
 },
 "nbformat": 4,
 "nbformat_minor": 2
}
