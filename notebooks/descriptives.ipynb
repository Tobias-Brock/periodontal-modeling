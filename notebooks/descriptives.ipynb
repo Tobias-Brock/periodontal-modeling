{
 "cells": [
  {
   "cell_type": "code",
   "execution_count": 2,
   "metadata": {},
   "outputs": [],
   "source": [
    "from periomod.data import StaticProcessEngine\n",
    "from periomod.descriptives import DescriptivesPlotter\n",
    "from periomod.data import _helpers\n",
    "import pandas as pd\n",
    "import numpy as np\n",
    "from matplotlib import pyplot as plt \n",
    "import seaborn as sns"
   ]
  },
  {
   "cell_type": "code",
   "execution_count": 77,
   "metadata": {},
   "outputs": [
    {
     "name": "stdout",
     "output_type": "stream",
     "text": [
      "Initial number of patients: 746\n",
      "Initial number of rows: 100950\n",
      "Number of unique patients removed: 7\n",
      "Number of rows removed: 1026\n",
      "Remaining number of patients: 739\n",
      "Remaining number of rows: 99924\n",
      "\n"
     ]
    },
    {
     "name": "stderr",
     "output_type": "stream",
     "text": [
      "/home/ewalter/pa-modeling/periomod/data/_preprocessing.py:275: UserWarning: Missing values found: \n",
      "bodymassindex              1560\n",
      "periofamilyhistory        10056\n",
      "diabetes                    666\n",
      "smokingtype               38220\n",
      "cigarettenumber           85164\n",
      "stresslvl                  2502\n",
      "boprevaluation              567\n",
      "percussion-sensitivity      222\n",
      "sensitivity                 312\n",
      "furcationbaseline         88304\n",
      "recbaseline                9878\n",
      "plaque                     2513\n",
      "bop                         633\n",
      "dtype: int64\n",
      "  self.create_tooth_features(self.impute_missing_values(data=data))\n"
     ]
    },
    {
     "name": "stdout",
     "output_type": "stream",
     "text": [
      "No missing values after imputation.\n"
     ]
    },
    {
     "data": {
      "text/plain": [
       "Index(['id_patient', 'age', 'gender', 'bodymassindex', 'periofamilyhistory',\n",
       "       'diabetes', 'smokingtype', 'cigarettenumber', 'antibiotictreatment',\n",
       "       'stresslvl', 'pdrevaluation', 'boprevaluation', 'pregnant', 'tooth',\n",
       "       'toothtype', 'rootnumber', 'mobility', 'restoration',\n",
       "       'percussion-sensitivity', 'sensitivity', 'furcationbaseline', 'side',\n",
       "       'pdbaseline', 'recbaseline', 'plaque', 'bop'],\n",
       "      dtype='object')"
      ]
     },
     "execution_count": 77,
     "metadata": {},
     "output_type": "execute_result"
    }
   ],
   "source": [
    "engine = StaticProcessEngine(behavior=False)\n",
    "df = engine.load_data(\"/home/ewalter/pa-modeling/data/raw/Periodontitis_ML_Dataset.xlsx\")\n",
    "pdf = engine.process_data(df)\n",
    "#plotter = DescriptivesPlotter(df)\n",
    "#df.replace(\" \", pd.NA)\n",
    "df.columns"
   ]
  },
  {
   "cell_type": "code",
   "execution_count": 67,
   "metadata": {},
   "outputs": [
    {
     "data": {
      "text/plain": [
       "5.0"
      ]
     },
     "execution_count": 67,
     "metadata": {},
     "output_type": "execute_result"
    }
   ],
   "source": [
    "Patientcategorialvariables=[\"Gender\", \"PerioFamilyHistory\", \"Diabetes\", \"SmokingType\", \"AntibioticTreatment\"]\n",
    "patientcategorial=patientdf[Patientcategorialvariables]\n",
    "\n",
    "smokipdf=patientdf[patientdf[\"SmokingType\"]>1]\n",
    "smokingnumber=smokipdf[\"CigaretteNumber\"]\n",
    "\n",
    "patientdf[\"Stresslvl\"].median()"
   ]
  },
  {
   "cell_type": "code",
   "execution_count": null,
   "metadata": {},
   "outputs": [
    {
     "name": "stdout",
     "output_type": "stream",
     "text": [
      "\\begin{tabular}{llrrrr}\n",
      "\\toprule\n",
      "Level & Feature & Category & Count & Total & Percentage \\\\\n",
      "\\midrule\n",
      "Patient & Gender & 2.000000 & 393 & 746 & 52.680965 \\\\\n",
      "Patient & Gender & 1.000000 & 348 & 746 & 46.648794 \\\\\n",
      "Patient & Gender & 0.000000 & 5 & 746 & 0.670241 \\\\\n",
      "Patient & PerioFamilyHistory & 2.000000 & 246 & 746 & 32.975871 \\\\\n",
      "Patient & PerioFamilyHistory & 1.000000 & 236 & 746 & 31.635389 \\\\\n",
      "Patient & PerioFamilyHistory & 3.000000 & 186 & 746 & 24.932976 \\\\\n",
      "Patient & PerioFamilyHistory & NaN & 78 & 746 & 10.455764 \\\\\n",
      "Patient & Diabetes & 1.000000 & 670 & 746 & 89.812332 \\\\\n",
      "Patient & Diabetes & 3.000000 & 31 & 746 & 4.155496 \\\\\n",
      "Patient & Diabetes & 4.000000 & 26 & 746 & 3.485255 \\\\\n",
      "Patient & Diabetes & 2.000000 & 13 & 746 & 1.742627 \\\\\n",
      "Patient & Diabetes & NaN & 6 & 746 & 0.804290 \\\\\n",
      "Patient & SmokingType & 1.000000 & 339 & 746 & 45.442359 \\\\\n",
      "Patient & SmokingType & NaN & 280 & 746 & 37.533512 \\\\\n",
      "Patient & SmokingType & 2.000000 & 113 & 746 & 15.147453 \\\\\n",
      "Patient & SmokingType & 3.000000 & 7 & 746 & 0.938338 \\\\\n",
      "Patient & SmokingType & 4.000000 & 6 & 746 & 0.804290 \\\\\n",
      "Patient & SmokingType & 5.000000 & 1 & 746 & 0.134048 \\\\\n",
      "Patient & AntibioticTreatment & 2.000000 & 637 & 746 & 85.388740 \\\\\n",
      "Patient & AntibioticTreatment & 1.000000 & 109 & 746 & 14.611260 \\\\\n",
      "\\bottomrule\n",
      "\\end{tabular}\n",
      "\n"
     ]
    }
   ],
   "source": [
    "def categorical_distribution(df):\n",
    "    result = []\n",
    "    total_patients = df.shape[0]  # Maximum number of entries per feature\n",
    "\n",
    "    for col in df.columns:\n",
    "        value_counts = df[col].value_counts(dropna=False)  # Count all, including NaN\n",
    "        for category, count in value_counts.items():\n",
    "            percentage = (count / total_patients) * 100  # Percentage calculation\n",
    "            result.append([\"Patient\", col, category, count, total_patients, percentage])\n",
    "\n",
    "    summary_df = pd.DataFrame(result, columns=[\"Level\", \"Feature\", \"Category\", \"Count\", \"Total\", \"Percentage\"])\n",
    "    return summary_df\n",
    "\n",
    "patientdistr= categorical_distribution(patientcategorial)\n",
    "\n",
    "print(patientdistr.to_latex(index=False))\n",
    "\n"
   ]
  },
  {
   "cell_type": "code",
   "execution_count": null,
   "metadata": {},
   "outputs": [],
   "source": [
    "for col in df.columns:\n",
    "    df[col] = pd.to_numeric(df[col], errors='coerce')\n"
   ]
  },
  {
   "cell_type": "code",
   "execution_count": 76,
   "metadata": {},
   "outputs": [
    {
     "ename": "KeyError",
     "evalue": "'ID_patient'",
     "output_type": "error",
     "traceback": [
      "\u001b[0;31m---------------------------------------------------------------------------\u001b[0m",
      "\u001b[0;31mKeyError\u001b[0m                                  Traceback (most recent call last)",
      "Cell \u001b[0;32mIn[76], line 1\u001b[0m\n\u001b[0;32m----> 1\u001b[0m patientdf\u001b[38;5;241m=\u001b[39m\u001b[43mdf\u001b[49m\u001b[38;5;241;43m.\u001b[39;49m\u001b[43mgroupby\u001b[49m\u001b[43m(\u001b[49m\u001b[38;5;124;43m\"\u001b[39;49m\u001b[38;5;124;43mID_patient\u001b[39;49m\u001b[38;5;124;43m\"\u001b[39;49m\u001b[43m)\u001b[49m\u001b[38;5;241m.\u001b[39mmean()\n\u001b[1;32m      2\u001b[0m toothdfgrouped \u001b[38;5;241m=\u001b[39m df\u001b[38;5;241m.\u001b[39mgroupby([\u001b[38;5;124m\"\u001b[39m\u001b[38;5;124mID_patient\u001b[39m\u001b[38;5;124m\"\u001b[39m, \u001b[38;5;124m\"\u001b[39m\u001b[38;5;124mTooth\u001b[39m\u001b[38;5;124m\"\u001b[39m])\u001b[38;5;241m.\u001b[39mmean()\n\u001b[1;32m      4\u001b[0m toothdfgrouped\u001b[38;5;241m.\u001b[39misna()\u001b[38;5;241m.\u001b[39msum()\n",
      "File \u001b[0;32m~/anaconda3/envs/pamod/lib/python3.11/site-packages/pandas/core/frame.py:9183\u001b[0m, in \u001b[0;36mDataFrame.groupby\u001b[0;34m(self, by, axis, level, as_index, sort, group_keys, observed, dropna)\u001b[0m\n\u001b[1;32m   9180\u001b[0m \u001b[38;5;28;01mif\u001b[39;00m level \u001b[38;5;129;01mis\u001b[39;00m \u001b[38;5;28;01mNone\u001b[39;00m \u001b[38;5;129;01mand\u001b[39;00m by \u001b[38;5;129;01mis\u001b[39;00m \u001b[38;5;28;01mNone\u001b[39;00m:\n\u001b[1;32m   9181\u001b[0m     \u001b[38;5;28;01mraise\u001b[39;00m \u001b[38;5;167;01mTypeError\u001b[39;00m(\u001b[38;5;124m\"\u001b[39m\u001b[38;5;124mYou have to supply one of \u001b[39m\u001b[38;5;124m'\u001b[39m\u001b[38;5;124mby\u001b[39m\u001b[38;5;124m'\u001b[39m\u001b[38;5;124m and \u001b[39m\u001b[38;5;124m'\u001b[39m\u001b[38;5;124mlevel\u001b[39m\u001b[38;5;124m'\u001b[39m\u001b[38;5;124m\"\u001b[39m)\n\u001b[0;32m-> 9183\u001b[0m \u001b[38;5;28;01mreturn\u001b[39;00m \u001b[43mDataFrameGroupBy\u001b[49m\u001b[43m(\u001b[49m\n\u001b[1;32m   9184\u001b[0m \u001b[43m    \u001b[49m\u001b[43mobj\u001b[49m\u001b[38;5;241;43m=\u001b[39;49m\u001b[38;5;28;43mself\u001b[39;49m\u001b[43m,\u001b[49m\n\u001b[1;32m   9185\u001b[0m \u001b[43m    \u001b[49m\u001b[43mkeys\u001b[49m\u001b[38;5;241;43m=\u001b[39;49m\u001b[43mby\u001b[49m\u001b[43m,\u001b[49m\n\u001b[1;32m   9186\u001b[0m \u001b[43m    \u001b[49m\u001b[43maxis\u001b[49m\u001b[38;5;241;43m=\u001b[39;49m\u001b[43maxis\u001b[49m\u001b[43m,\u001b[49m\n\u001b[1;32m   9187\u001b[0m \u001b[43m    \u001b[49m\u001b[43mlevel\u001b[49m\u001b[38;5;241;43m=\u001b[39;49m\u001b[43mlevel\u001b[49m\u001b[43m,\u001b[49m\n\u001b[1;32m   9188\u001b[0m \u001b[43m    \u001b[49m\u001b[43mas_index\u001b[49m\u001b[38;5;241;43m=\u001b[39;49m\u001b[43mas_index\u001b[49m\u001b[43m,\u001b[49m\n\u001b[1;32m   9189\u001b[0m \u001b[43m    \u001b[49m\u001b[43msort\u001b[49m\u001b[38;5;241;43m=\u001b[39;49m\u001b[43msort\u001b[49m\u001b[43m,\u001b[49m\n\u001b[1;32m   9190\u001b[0m \u001b[43m    \u001b[49m\u001b[43mgroup_keys\u001b[49m\u001b[38;5;241;43m=\u001b[39;49m\u001b[43mgroup_keys\u001b[49m\u001b[43m,\u001b[49m\n\u001b[1;32m   9191\u001b[0m \u001b[43m    \u001b[49m\u001b[43mobserved\u001b[49m\u001b[38;5;241;43m=\u001b[39;49m\u001b[43mobserved\u001b[49m\u001b[43m,\u001b[49m\n\u001b[1;32m   9192\u001b[0m \u001b[43m    \u001b[49m\u001b[43mdropna\u001b[49m\u001b[38;5;241;43m=\u001b[39;49m\u001b[43mdropna\u001b[49m\u001b[43m,\u001b[49m\n\u001b[1;32m   9193\u001b[0m \u001b[43m\u001b[49m\u001b[43m)\u001b[49m\n",
      "File \u001b[0;32m~/anaconda3/envs/pamod/lib/python3.11/site-packages/pandas/core/groupby/groupby.py:1329\u001b[0m, in \u001b[0;36mGroupBy.__init__\u001b[0;34m(self, obj, keys, axis, level, grouper, exclusions, selection, as_index, sort, group_keys, observed, dropna)\u001b[0m\n\u001b[1;32m   1326\u001b[0m \u001b[38;5;28mself\u001b[39m\u001b[38;5;241m.\u001b[39mdropna \u001b[38;5;241m=\u001b[39m dropna\n\u001b[1;32m   1328\u001b[0m \u001b[38;5;28;01mif\u001b[39;00m grouper \u001b[38;5;129;01mis\u001b[39;00m \u001b[38;5;28;01mNone\u001b[39;00m:\n\u001b[0;32m-> 1329\u001b[0m     grouper, exclusions, obj \u001b[38;5;241m=\u001b[39m \u001b[43mget_grouper\u001b[49m\u001b[43m(\u001b[49m\n\u001b[1;32m   1330\u001b[0m \u001b[43m        \u001b[49m\u001b[43mobj\u001b[49m\u001b[43m,\u001b[49m\n\u001b[1;32m   1331\u001b[0m \u001b[43m        \u001b[49m\u001b[43mkeys\u001b[49m\u001b[43m,\u001b[49m\n\u001b[1;32m   1332\u001b[0m \u001b[43m        \u001b[49m\u001b[43maxis\u001b[49m\u001b[38;5;241;43m=\u001b[39;49m\u001b[43maxis\u001b[49m\u001b[43m,\u001b[49m\n\u001b[1;32m   1333\u001b[0m \u001b[43m        \u001b[49m\u001b[43mlevel\u001b[49m\u001b[38;5;241;43m=\u001b[39;49m\u001b[43mlevel\u001b[49m\u001b[43m,\u001b[49m\n\u001b[1;32m   1334\u001b[0m \u001b[43m        \u001b[49m\u001b[43msort\u001b[49m\u001b[38;5;241;43m=\u001b[39;49m\u001b[43msort\u001b[49m\u001b[43m,\u001b[49m\n\u001b[1;32m   1335\u001b[0m \u001b[43m        \u001b[49m\u001b[43mobserved\u001b[49m\u001b[38;5;241;43m=\u001b[39;49m\u001b[38;5;28;43;01mFalse\u001b[39;49;00m\u001b[43m \u001b[49m\u001b[38;5;28;43;01mif\u001b[39;49;00m\u001b[43m \u001b[49m\u001b[43mobserved\u001b[49m\u001b[43m \u001b[49m\u001b[38;5;129;43;01mis\u001b[39;49;00m\u001b[43m \u001b[49m\u001b[43mlib\u001b[49m\u001b[38;5;241;43m.\u001b[39;49m\u001b[43mno_default\u001b[49m\u001b[43m \u001b[49m\u001b[38;5;28;43;01melse\u001b[39;49;00m\u001b[43m \u001b[49m\u001b[43mobserved\u001b[49m\u001b[43m,\u001b[49m\n\u001b[1;32m   1336\u001b[0m \u001b[43m        \u001b[49m\u001b[43mdropna\u001b[49m\u001b[38;5;241;43m=\u001b[39;49m\u001b[38;5;28;43mself\u001b[39;49m\u001b[38;5;241;43m.\u001b[39;49m\u001b[43mdropna\u001b[49m\u001b[43m,\u001b[49m\n\u001b[1;32m   1337\u001b[0m \u001b[43m    \u001b[49m\u001b[43m)\u001b[49m\n\u001b[1;32m   1339\u001b[0m \u001b[38;5;28;01mif\u001b[39;00m observed \u001b[38;5;129;01mis\u001b[39;00m lib\u001b[38;5;241m.\u001b[39mno_default:\n\u001b[1;32m   1340\u001b[0m     \u001b[38;5;28;01mif\u001b[39;00m \u001b[38;5;28many\u001b[39m(ping\u001b[38;5;241m.\u001b[39m_passed_categorical \u001b[38;5;28;01mfor\u001b[39;00m ping \u001b[38;5;129;01min\u001b[39;00m grouper\u001b[38;5;241m.\u001b[39mgroupings):\n",
      "File \u001b[0;32m~/anaconda3/envs/pamod/lib/python3.11/site-packages/pandas/core/groupby/grouper.py:1043\u001b[0m, in \u001b[0;36mget_grouper\u001b[0;34m(obj, key, axis, level, sort, observed, validate, dropna)\u001b[0m\n\u001b[1;32m   1041\u001b[0m         in_axis, level, gpr \u001b[38;5;241m=\u001b[39m \u001b[38;5;28;01mFalse\u001b[39;00m, gpr, \u001b[38;5;28;01mNone\u001b[39;00m\n\u001b[1;32m   1042\u001b[0m     \u001b[38;5;28;01melse\u001b[39;00m:\n\u001b[0;32m-> 1043\u001b[0m         \u001b[38;5;28;01mraise\u001b[39;00m \u001b[38;5;167;01mKeyError\u001b[39;00m(gpr)\n\u001b[1;32m   1044\u001b[0m \u001b[38;5;28;01melif\u001b[39;00m \u001b[38;5;28misinstance\u001b[39m(gpr, Grouper) \u001b[38;5;129;01mand\u001b[39;00m gpr\u001b[38;5;241m.\u001b[39mkey \u001b[38;5;129;01mis\u001b[39;00m \u001b[38;5;129;01mnot\u001b[39;00m \u001b[38;5;28;01mNone\u001b[39;00m:\n\u001b[1;32m   1045\u001b[0m     \u001b[38;5;66;03m# Add key to exclusions\u001b[39;00m\n\u001b[1;32m   1046\u001b[0m     exclusions\u001b[38;5;241m.\u001b[39madd(gpr\u001b[38;5;241m.\u001b[39mkey)\n",
      "\u001b[0;31mKeyError\u001b[0m: 'ID_patient'"
     ]
    }
   ],
   "source": [
    "patientdf=df.groupby(\"ID_patient\").mean()\n",
    "toothdfgrouped = df.groupby([\"ID_patient\", \"Tooth\"]).mean()\n",
    "\n",
    "toothdfgrouped.isna().sum()\n",
    "patientdf.isna().sum()\n",
    "df.isna().sum()\n",
    "\n",
    "patientdf[\"SmokingType\"].value_counts()\n",
    "patientdf[\"Stresslvl\"]\n"
   ]
  },
  {
   "cell_type": "code",
   "execution_count": null,
   "metadata": {},
   "outputs": [
    {
     "name": "stdout",
     "output_type": "stream",
     "text": [
      "ID_patient                    0\n",
      "Age                           0\n",
      "Gender                        0\n",
      "BodyMassIndex               228\n",
      "PerioFamilyHistory         1439\n",
      "Diabetes                    119\n",
      "SmokingType                4975\n",
      "CigaretteNumber           11027\n",
      "AntibioticTreatment           0\n",
      "Stresslvl                   374\n",
      "PdRevaluation                 0\n",
      "BOPRevaluation               71\n",
      "Pregnant                   5864\n",
      "Tooth                         0\n",
      "Toothtype                     0\n",
      "RootNumber                    0\n",
      "Mobility                      0\n",
      "Restoration                   0\n",
      "Percussion-sensitivity       28\n",
      "Sensitivity                  51\n",
      "FurcationBaseline          1086\n",
      "Side                          0\n",
      "PdBaseline                    0\n",
      "RecBaseline                1234\n",
      "Plaque                      391\n",
      "BOP                          91\n",
      "dtype: int64\n"
     ]
    },
    {
     "data": {
      "text/html": [
       "<div>\n",
       "<style scoped>\n",
       "    .dataframe tbody tr th:only-of-type {\n",
       "        vertical-align: middle;\n",
       "    }\n",
       "\n",
       "    .dataframe tbody tr th {\n",
       "        vertical-align: top;\n",
       "    }\n",
       "\n",
       "    .dataframe thead th {\n",
       "        text-align: right;\n",
       "    }\n",
       "</style>\n",
       "<table border=\"1\" class=\"dataframe\">\n",
       "  <thead>\n",
       "    <tr style=\"text-align: right;\">\n",
       "      <th></th>\n",
       "      <th>ID_patient</th>\n",
       "      <th>Age</th>\n",
       "      <th>Gender</th>\n",
       "      <th>AntibioticTreatment</th>\n",
       "      <th>PdRevaluation</th>\n",
       "      <th>BOPRevaluation</th>\n",
       "      <th>Tooth</th>\n",
       "      <th>Toothtype</th>\n",
       "      <th>RootNumber</th>\n",
       "      <th>Mobility</th>\n",
       "      <th>Restoration</th>\n",
       "      <th>Side</th>\n",
       "      <th>PdBaseline</th>\n",
       "    </tr>\n",
       "  </thead>\n",
       "  <tbody>\n",
       "    <tr>\n",
       "      <th>count</th>\n",
       "      <td>100950.000000</td>\n",
       "      <td>100950.000000</td>\n",
       "      <td>100950.000000</td>\n",
       "      <td>100950.000000</td>\n",
       "      <td>100950.000000</td>\n",
       "      <td>100383.000000</td>\n",
       "      <td>100950.000000</td>\n",
       "      <td>100950.000000</td>\n",
       "      <td>100950.000000</td>\n",
       "      <td>100950.000000</td>\n",
       "      <td>100950.000000</td>\n",
       "      <td>100950.000000</td>\n",
       "      <td>100950.000000</td>\n",
       "    </tr>\n",
       "    <tr>\n",
       "      <th>mean</th>\n",
       "      <td>778.084042</td>\n",
       "      <td>56.269718</td>\n",
       "      <td>1.521783</td>\n",
       "      <td>1.856701</td>\n",
       "      <td>2.567132</td>\n",
       "      <td>1.279320</td>\n",
       "      <td>29.300802</td>\n",
       "      <td>1.784903</td>\n",
       "      <td>1.319762</td>\n",
       "      <td>1.840357</td>\n",
       "      <td>1.756077</td>\n",
       "      <td>3.500000</td>\n",
       "      <td>2.818415</td>\n",
       "    </tr>\n",
       "    <tr>\n",
       "      <th>std</th>\n",
       "      <td>550.163142</td>\n",
       "      <td>14.021206</td>\n",
       "      <td>0.512565</td>\n",
       "      <td>0.350379</td>\n",
       "      <td>1.222458</td>\n",
       "      <td>0.448667</td>\n",
       "      <td>11.385683</td>\n",
       "      <td>0.823888</td>\n",
       "      <td>0.466387</td>\n",
       "      <td>0.366277</td>\n",
       "      <td>0.812717</td>\n",
       "      <td>1.707834</td>\n",
       "      <td>1.407334</td>\n",
       "    </tr>\n",
       "    <tr>\n",
       "      <th>min</th>\n",
       "      <td>1.000000</td>\n",
       "      <td>15.000000</td>\n",
       "      <td>0.000000</td>\n",
       "      <td>1.000000</td>\n",
       "      <td>1.000000</td>\n",
       "      <td>1.000000</td>\n",
       "      <td>11.000000</td>\n",
       "      <td>1.000000</td>\n",
       "      <td>1.000000</td>\n",
       "      <td>1.000000</td>\n",
       "      <td>1.000000</td>\n",
       "      <td>1.000000</td>\n",
       "      <td>1.000000</td>\n",
       "    </tr>\n",
       "    <tr>\n",
       "      <th>25%</th>\n",
       "      <td>326.000000</td>\n",
       "      <td>48.000000</td>\n",
       "      <td>1.000000</td>\n",
       "      <td>2.000000</td>\n",
       "      <td>2.000000</td>\n",
       "      <td>1.000000</td>\n",
       "      <td>21.000000</td>\n",
       "      <td>1.000000</td>\n",
       "      <td>1.000000</td>\n",
       "      <td>2.000000</td>\n",
       "      <td>1.000000</td>\n",
       "      <td>2.000000</td>\n",
       "      <td>2.000000</td>\n",
       "    </tr>\n",
       "    <tr>\n",
       "      <th>50%</th>\n",
       "      <td>655.000000</td>\n",
       "      <td>58.000000</td>\n",
       "      <td>2.000000</td>\n",
       "      <td>2.000000</td>\n",
       "      <td>2.000000</td>\n",
       "      <td>1.000000</td>\n",
       "      <td>31.000000</td>\n",
       "      <td>2.000000</td>\n",
       "      <td>1.000000</td>\n",
       "      <td>2.000000</td>\n",
       "      <td>2.000000</td>\n",
       "      <td>3.500000</td>\n",
       "      <td>3.000000</td>\n",
       "    </tr>\n",
       "    <tr>\n",
       "      <th>75%</th>\n",
       "      <td>1203.000000</td>\n",
       "      <td>67.000000</td>\n",
       "      <td>2.000000</td>\n",
       "      <td>2.000000</td>\n",
       "      <td>3.000000</td>\n",
       "      <td>2.000000</td>\n",
       "      <td>41.000000</td>\n",
       "      <td>3.000000</td>\n",
       "      <td>2.000000</td>\n",
       "      <td>2.000000</td>\n",
       "      <td>2.000000</td>\n",
       "      <td>5.000000</td>\n",
       "      <td>3.000000</td>\n",
       "    </tr>\n",
       "    <tr>\n",
       "      <th>max</th>\n",
       "      <td>1948.000000</td>\n",
       "      <td>88.000000</td>\n",
       "      <td>2.000000</td>\n",
       "      <td>2.000000</td>\n",
       "      <td>12.000000</td>\n",
       "      <td>2.000000</td>\n",
       "      <td>48.000000</td>\n",
       "      <td>3.000000</td>\n",
       "      <td>2.000000</td>\n",
       "      <td>2.000000</td>\n",
       "      <td>3.000000</td>\n",
       "      <td>6.000000</td>\n",
       "      <td>12.000000</td>\n",
       "    </tr>\n",
       "  </tbody>\n",
       "</table>\n",
       "</div>"
      ],
      "text/plain": [
       "          ID_patient            Age         Gender  AntibioticTreatment  \\\n",
       "count  100950.000000  100950.000000  100950.000000        100950.000000   \n",
       "mean      778.084042      56.269718       1.521783             1.856701   \n",
       "std       550.163142      14.021206       0.512565             0.350379   \n",
       "min         1.000000      15.000000       0.000000             1.000000   \n",
       "25%       326.000000      48.000000       1.000000             2.000000   \n",
       "50%       655.000000      58.000000       2.000000             2.000000   \n",
       "75%      1203.000000      67.000000       2.000000             2.000000   \n",
       "max      1948.000000      88.000000       2.000000             2.000000   \n",
       "\n",
       "       PdRevaluation  BOPRevaluation          Tooth      Toothtype  \\\n",
       "count  100950.000000   100383.000000  100950.000000  100950.000000   \n",
       "mean        2.567132        1.279320      29.300802       1.784903   \n",
       "std         1.222458        0.448667      11.385683       0.823888   \n",
       "min         1.000000        1.000000      11.000000       1.000000   \n",
       "25%         2.000000        1.000000      21.000000       1.000000   \n",
       "50%         2.000000        1.000000      31.000000       2.000000   \n",
       "75%         3.000000        2.000000      41.000000       3.000000   \n",
       "max        12.000000        2.000000      48.000000       3.000000   \n",
       "\n",
       "          RootNumber       Mobility    Restoration           Side  \\\n",
       "count  100950.000000  100950.000000  100950.000000  100950.000000   \n",
       "mean        1.319762       1.840357       1.756077       3.500000   \n",
       "std         0.466387       0.366277       0.812717       1.707834   \n",
       "min         1.000000       1.000000       1.000000       1.000000   \n",
       "25%         1.000000       2.000000       1.000000       2.000000   \n",
       "50%         1.000000       2.000000       2.000000       3.500000   \n",
       "75%         2.000000       2.000000       2.000000       5.000000   \n",
       "max         2.000000       2.000000       3.000000       6.000000   \n",
       "\n",
       "          PdBaseline  \n",
       "count  100950.000000  \n",
       "mean        2.818415  \n",
       "std         1.407334  \n",
       "min         1.000000  \n",
       "25%         2.000000  \n",
       "50%         3.000000  \n",
       "75%         3.000000  \n",
       "max        12.000000  "
      ]
     },
     "execution_count": 49,
     "metadata": {},
     "output_type": "execute_result"
    }
   ],
   "source": [
    "#This filteres out all rows that can have a furcation involvement\n",
    "sides=_helpers._get_side()\n",
    "furcationdf= df[\"FurcationBaseline\"]\n",
    "condition = df.apply(lambda row: any(row[\"Tooth\"] in teeth and row[\"Side\"] in sides for teeth, sides in sides.items()), axis=1)\n",
    "filtered_df = df[condition]\n",
    "empty_count = filtered_df.isna().sum()\n",
    "print(empty_count)\n",
    "\n",
    "df.describe()\n"
   ]
  },
  {
   "cell_type": "code",
   "execution_count": null,
   "metadata": {},
   "outputs": [],
   "source": [
    "plotter.histogram_2d(\"pdbaseline\", \"pdrevaluation\")"
   ]
  },
  {
   "cell_type": "code",
   "execution_count": null,
   "metadata": {},
   "outputs": [],
   "source": [
    "plotter.pocket_comparison(\"pdbaseline\", \"pdrevaluation\")"
   ]
  },
  {
   "cell_type": "code",
   "execution_count": null,
   "metadata": {},
   "outputs": [],
   "source": [
    "plotter.pocket_group_comparison(\"pdgroupbase\", \"pdgrouprevaluation\")"
   ]
  },
  {
   "cell_type": "code",
   "execution_count": null,
   "metadata": {},
   "outputs": [],
   "source": [
    "plotter.plt_matrix(\"pdgrouprevaluation\", \"pdgroupbase\")"
   ]
  },
  {
   "cell_type": "code",
   "execution_count": null,
   "metadata": {},
   "outputs": [],
   "source": [
    "plotter.outcome_descriptive(\"pdgrouprevaluation\", \"Distribution of Classes\")"
   ]
  }
 ],
 "metadata": {
  "kernelspec": {
   "display_name": "pamod",
   "language": "python",
   "name": "python3"
  },
  "language_info": {
   "codemirror_mode": {
    "name": "ipython",
    "version": 3
   },
   "file_extension": ".py",
   "mimetype": "text/x-python",
   "name": "python",
   "nbconvert_exporter": "python",
   "pygments_lexer": "ipython3",
   "version": "3.11.10"
  }
 },
 "nbformat": 4,
 "nbformat_minor": 2
}
