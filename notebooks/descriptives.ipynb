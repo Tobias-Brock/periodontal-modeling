{
 "cells": [
  {
   "cell_type": "code",
   "execution_count": null,
   "metadata": {},
   "outputs": [],
   "source": [
    "from pamod.preprocessing import StaticProcessEngine\n",
    "from pamod.descriptives import DescriptivesPlotter"
   ]
  },
  {
   "cell_type": "code",
   "execution_count": null,
   "metadata": {},
   "outputs": [],
   "source": [
    "engine = StaticProcessEngine(behavior=False, scale=False, encoding=None)\n",
    "df = engine.load_data()\n",
    "df = engine.process_data(df)\n",
    "plotter = DescriptivesPlotter(df)"
   ]
  },
  {
   "cell_type": "code",
   "execution_count": null,
   "metadata": {},
   "outputs": [],
   "source": [
    "plotter.histogram_2d(\"pdbaseline\", \"pdrevaluation\")"
   ]
  },
  {
   "cell_type": "code",
   "execution_count": null,
   "metadata": {},
   "outputs": [],
   "source": [
    "plotter.pocket_comparison(\"pdbaseline\", \"pdrevaluation\")"
   ]
  },
  {
   "cell_type": "code",
   "execution_count": null,
   "metadata": {},
   "outputs": [],
   "source": [
    "plotter.pocket_group_comparison(\"pdbase\", \"pdgroup\")"
   ]
  },
  {
   "cell_type": "code",
   "execution_count": null,
   "metadata": {},
   "outputs": [],
   "source": [
    "plotter.plt_matrix(\"pdgroup\", \"pdbase\", \"Blues\", len(df[\"pdgroup\"]), \"columns\")"
   ]
  }
 ],
 "metadata": {
  "kernelspec": {
   "display_name": "pamod",
   "language": "python",
   "name": "python3"
  },
  "language_info": {
   "codemirror_mode": {
    "name": "ipython",
    "version": 3
   },
   "file_extension": ".py",
   "mimetype": "text/x-python",
   "name": "python",
   "nbconvert_exporter": "python",
   "pygments_lexer": "ipython3",
   "version": "3.11.9"
  }
 },
 "nbformat": 4,
 "nbformat_minor": 2
}
